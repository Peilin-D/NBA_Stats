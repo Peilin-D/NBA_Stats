{
 "cells": [
  {
   "cell_type": "code",
   "execution_count": 49,
   "metadata": {
    "collapsed": true
   },
   "outputs": [],
   "source": [
    "import urllib\n",
    "from bs4 import BeautifulSoup\n",
    "import pandas as pd\n",
    "import pickle as pk"
   ]
  },
  {
   "cell_type": "code",
   "execution_count": 10,
   "metadata": {
    "collapsed": false
   },
   "outputs": [],
   "source": [
    "# get the teams\n",
    "url = 'http://espn.go.com/nba/teams'\n",
    "html = urllib.urlopen(url).read()\n",
    "soup = BeautifulSoup(html, 'lxml')\n",
    "# print (soup.prettify())\n",
    "tables = soup.find_all('ul', class_ = 'medium-logos')"
   ]
  },
  {
   "cell_type": "code",
   "execution_count": 29,
   "metadata": {
    "collapsed": false
   },
   "outputs": [
    {
     "data": {
      "text/plain": [
       "<a class=\"bi\" href=\"http://www.espn.com/nba/team/_/name/bos/boston-celtics\">Boston Celtics</a>"
      ]
     },
     "execution_count": 29,
     "metadata": {},
     "output_type": "execute_result"
    }
   ],
   "source": [
    "tables[0].find_all('li')[0].h5.a"
   ]
  },
  {
   "cell_type": "code",
   "execution_count": 65,
   "metadata": {
    "collapsed": false
   },
   "outputs": [],
   "source": [
    "name_pref_Tuples = []\n",
    "city_name_Dict = {}\n",
    "for table in tables:\n",
    "    lis = table.find_all('li')\n",
    "    for li in lis:\n",
    "        info = li.h5.a\n",
    "        team_url = info['href']\n",
    "        team_name = info.text\n",
    "        pref = team_url.split('/')[-2]\n",
    "        city_name = ' '.join(info.text.split()[:-1])\n",
    "        if team_name == 'Portland Trail Blazers':\n",
    "            city_name = 'Portland'\n",
    "        city_name_Dict[city_name] = team_name\n",
    "        name_pref_Tuples.append((team_name, pref))"
   ]
  },
  {
   "cell_type": "code",
   "execution_count": 66,
   "metadata": {
    "collapsed": false
   },
   "outputs": [],
   "source": [
    "# Dict = {'teams':teams,'prefix1':team_prefix1}\n",
    "# Teams = pd.DataFrame(Dict, columns = ['teams', 'prefix1'])"
   ]
  },
  {
   "cell_type": "code",
   "execution_count": 67,
   "metadata": {
    "collapsed": false
   },
   "outputs": [],
   "source": [
    "# Teams.to_csv('Teams.csv', index=False)"
   ]
  },
  {
   "cell_type": "code",
   "execution_count": 68,
   "metadata": {
    "collapsed": false
   },
   "outputs": [],
   "source": [
    "pk.dump(city_name_Dict, open('city_name.pickle', 'wb'))\n",
    "pk.dump(name_pref_Tuples, open('name_pref.pickle', 'wb'))"
   ]
  },
  {
   "cell_type": "code",
   "execution_count": null,
   "metadata": {
    "collapsed": true
   },
   "outputs": [],
   "source": []
  }
 ],
 "metadata": {
  "kernelspec": {
   "display_name": "Python 2",
   "language": "python",
   "name": "python2"
  },
  "language_info": {
   "codemirror_mode": {
    "name": "ipython",
    "version": 2
   },
   "file_extension": ".py",
   "mimetype": "text/x-python",
   "name": "python",
   "nbconvert_exporter": "python",
   "pygments_lexer": "ipython2",
   "version": "2.7.11"
  }
 },
 "nbformat": 4,
 "nbformat_minor": 0
}
