{
 "cells": [
  {
   "cell_type": "code",
   "execution_count": 86,
   "metadata": {
    "collapsed": false
   },
   "outputs": [
    {
     "name": "stderr",
     "output_type": "stream",
     "text": [
      "/Users/duanpeilin/anaconda/lib/python2.7/site-packages/matplotlib/font_manager.py:273: UserWarning: Matplotlib is building the font cache using fc-list. This may take a moment.\n",
      "  warnings.warn('Matplotlib is building the font cache using fc-list. This may take a moment.')\n"
     ]
    }
   ],
   "source": [
    "import pandas as pd\n",
    "import numpy as np\n",
    "import pickle as pk\n",
    "import matplotlib.pyplot as plt"
   ]
  },
  {
   "cell_type": "code",
   "execution_count": 77,
   "metadata": {
    "collapsed": false
   },
   "outputs": [],
   "source": [
    "games_df = pd.read_csv('Games.csv')"
   ]
  },
  {
   "cell_type": "code",
   "execution_count": 81,
   "metadata": {
    "collapsed": true
   },
   "outputs": [],
   "source": [
    "teams = pk.load(open('name_pref.pickle'))\n",
    "improv_Dict = {}\n",
    "for name, pref in teams:\n",
    "#     improv_Dict[name] = {'W':0, 'WorstPos':0, 'BestPos':1000}\n",
    "    improv_Dict[name] = {'W':0, 'Pos':[]}"
   ]
  },
  {
   "cell_type": "code",
   "execution_count": 82,
   "metadata": {
    "collapsed": false
   },
   "outputs": [],
   "source": [
    "improv_df = pd.DataFrame(improv_Dict).T\n",
    "# improv_df = improv_df.reindex(columns=['W', 'BestPos', 'WorstPos'])"
   ]
  },
  {
   "cell_type": "code",
   "execution_count": 83,
   "metadata": {
    "collapsed": false
   },
   "outputs": [],
   "source": [
    "date_df = games_df.sort_values('date')"
   ]
  },
  {
   "cell_type": "code",
   "execution_count": 84,
   "metadata": {
    "collapsed": true
   },
   "outputs": [],
   "source": [
    "for idx, row in date_df.iterrows():\n",
    "    home_team = row['home_team']\n",
    "    visit_team = row['visit_team']\n",
    "    home_score = int(row['home_score'].split()[0]) # possible 'OT'\n",
    "    visit_score = int(row['visit_score'].split()[0]) \n",
    "    if home_score > visit_score:\n",
    "        improv_df.ix[home_team]['W'] += 1\n",
    "    else:\n",
    "        improv_df.ix[visit_team]['W'] += 1\n",
    "    cur_rank = improv_df['W'].rank(method='min', ascending=False)\n",
    "    i = 0\n",
    "    for pos in improv_df['Pos'].values:\n",
    "        pos.append(cur_rank[i])\n",
    "        i += 1"
   ]
  },
  {
   "cell_type": "code",
   "execution_count": 145,
   "metadata": {
    "collapsed": false
   },
   "outputs": [],
   "source": [
    "team_name = []\n",
    "improvement = []\n",
    "for idx, row in improv_df.iterrows():\n",
    "    team_name.append(idx)\n",
    "    pos = row['Pos']\n",
    "    worstPosInd = np.argmax(pos)\n",
    "#     later_pos = pos[worstPosInd:]\n",
    "#     bestPosInd = np.argmin(later_pos)\n",
    "#     improvement.append(pos[worstPosInd] - later_pos[bestPosInd])\n",
    "    improvement.append(pos[worstPosInd] - pos[-1])"
   ]
  },
  {
   "cell_type": "code",
   "execution_count": 152,
   "metadata": {
    "collapsed": false
   },
   "outputs": [],
   "source": [
    "team_improv = pd.Series(improvement, index=team_name)"
   ]
  },
  {
   "cell_type": "code",
   "execution_count": 158,
   "metadata": {
    "collapsed": false
   },
   "outputs": [],
   "source": [
    "sorted_improv = team_improv.sort_values(ascending=False)"
   ]
  },
  {
   "cell_type": "code",
   "execution_count": 157,
   "metadata": {
    "collapsed": false
   },
   "outputs": [
    {
     "data": {
      "text/plain": [
       "<matplotlib.text.Text at 0x1161bfd90>"
      ]
     },
     "execution_count": 157,
     "metadata": {},
     "output_type": "execute_result"
    },
    {
     "data": {
      "image/png": "[encoded data removed]",
      "text/plain": [
       "<matplotlib.figure.Figure at 0x115f6c050>"
      ]
     },
     "metadata": {},
     "output_type": "display_data"
    }
   ],
   "source": [
    "%matplotlib inline\n",
    "name = 'San Antonio Spurs'\n",
    "data = improv_df.ix[name]['Pos']\n",
    "plt.plot(np.array(worriers))\n",
    "plt.xlim(0, len(data))\n",
    "plt.title(name + ' ' + 'Rank Changes')"
   ]
  },
  {
   "cell_type": "code",
   "execution_count": 186,
   "metadata": {
    "collapsed": false
   },
   "outputs": [],
   "source": [
    "pd.Series(data = sorted_improv.index.values).to_csv('Improve.csv')"
   ]
  },
  {
   "cell_type": "code",
   "execution_count": 181,
   "metadata": {
    "collapsed": false
   },
   "outputs": [],
   "source": [
    "f = open('file.txt', 'w')\n",
    "for t in sorted_improv.index.get_values():\n",
    "    f.write(t)\n",
    "    f.write('\\n')"
   ]
  },
  {
   "cell_type": "code",
   "execution_count": null,
   "metadata": {
    "collapsed": true
   },
   "outputs": [],
   "source": []
  }
 ],
 "metadata": {
  "kernelspec": {
   "display_name": "Python 2",
   "language": "python",
   "name": "python2"
  },
  "language_info": {
   "codemirror_mode": {
    "name": "ipython",
    "version": 2
   },
   "file_extension": ".py",
   "mimetype": "text/x-python",
   "name": "python",
   "nbconvert_exporter": "python",
   "pygments_lexer": "ipython2",
   "version": "2.7.11"
  }
 },
 "nbformat": 4,
 "nbformat_minor": 0
}
